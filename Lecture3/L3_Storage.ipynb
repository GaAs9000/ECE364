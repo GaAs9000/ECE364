{
 "cells": [
  {
   "cell_type": "markdown",
   "id": "6a4a8e51",
   "metadata": {
    "cell_style": "center",
    "slideshow": {
     "slide_type": "slide"
    }
   },
   "source": [
    "# L3: Introduction to PyTorch Storage and Views"
   ]
  },
  {
   "cell_type": "markdown",
   "id": "26cc6a46",
   "metadata": {
    "slideshow": {
     "slide_type": "slide"
    }
   },
   "source": [
    "### Goals of this Lecture\n",
    "\n",
    "- Getting to know Tensor storage\n",
    "- Getting to know more operations which create views\n",
    "- Getting to know basic indexing\n",
    "- Getting to know advanced indexing\n"
   ]
  },
  {
   "cell_type": "markdown",
   "id": "1bd1c1b9",
   "metadata": {
    "slideshow": {
     "slide_type": "slide"
    }
   },
   "source": [
    "## Tensor Storage"
   ]
  },
  {
   "cell_type": "markdown",
   "id": "999fad85",
   "metadata": {
    "slideshow": {
     "slide_type": "slide"
    }
   },
   "source": [
    "Recall from ECE 220: Where can data be stored\n",
    "- Disks:\n",
    "    - size: typical disk sizes range from 1-2TB to currently 18TB per disk; can be combined into logical volumes of much larger sizes\n",
    "    - speed: spinning disks 300MB/sec; SSD disks 500MB/sec; Flash 2000MB/sec; RAID systems combine multiple disks to read in parallel\n",
    "- Network drives:\n",
    "    - size: often really large\n",
    "    - speed often really slow\n",
    "- RAM:\n",
    "    - size: 8GB to several TB\n",
    "    - speed: 3200 MHz (how many times per second it can be accessed)\n",
    "- GPU RAM:\n",
    "    - size: approx. up to 48GB in a single GPU\n",
    "    - speed: 2000 MHz\n",
    "- Registers/Cache:\n",
    "    - size: typically very small and sometimes hard to control with high-level programming languages\n",
    "    - speed: really fast"
   ]
  },
  {
   "cell_type": "markdown",
   "id": "0b6a38f8",
   "metadata": {
    "slideshow": {
     "slide_type": "slide"
    }
   },
   "source": [
    "When developing machine learning and AI solutions it is very important to understand where to place your data:\n",
    "- Do I keep the data on the disk and load it into RAM every time I need it\n",
    "- Can I load all my data into CPU RAM\n",
    "- Can I even load all my data into GPU RAM\n",
    "\n",
    "There is no general answer. Every application is different and it is very important that you are aware of these constraints.\n",
    "\n",
    "**Don't ignore these aspects ever**"
   ]
  },
  {
   "cell_type": "markdown",
   "id": "636ae397",
   "metadata": {
    "slideshow": {
     "slide_type": "slide"
    }
   },
   "source": [
    "What happens if you ignore those aspects:\n",
    "- your application runs much slower than it should (e.g., several days as opposed to several hours)\n",
    "- we will tell you what numbers to look at"
   ]
  },
  {
   "cell_type": "markdown",
   "id": "0d0f125d",
   "metadata": {
    "slideshow": {
     "slide_type": "slide"
    }
   },
   "source": [
    "The data of every tensor is stored in one or multiple ```torch.Storage``` containers.\n",
    "\n",
    "Important functions:\n",
    "- ```data_ptr()```: tells us the address of the data in memory\n",
    "- ```cpu()```: creates a copy of the data in CPU RAM (if it isn't already there)\n",
    "- ```cuda()```: creates a copy of the data in GPU RAM (if it isn't already there)\n",
    "- ```size()```: number of elements in the storage\n",
    "- ```element_size()```: number of bytes to store one element in the storage"
   ]
  },
  {
   "cell_type": "markdown",
   "id": "363e4353",
   "metadata": {
    "slideshow": {
     "slide_type": "slide"
    }
   },
   "source": [
    "Examples:"
   ]
  },
  {
   "cell_type": "code",
   "execution_count": 175,
   "id": "68e02fd0",
   "metadata": {
    "ExecuteTime": {
     "end_time": "2024-09-09T17:09:11.724243Z",
     "start_time": "2024-09-09T17:09:10.367345Z"
    },
    "slideshow": {
     "slide_type": "fragment"
    }
   },
   "outputs": [
    {
     "name": "stdout",
     "output_type": "stream",
     "text": [
      "tensor([[ 0.3117, -1.9715,  2.3644],\n",
      "        [-0.6489,  0.0038, -0.7604],\n",
      "        [-0.4477, -0.0137,  0.2700],\n",
      "        [ 0.2834,  0.4906,  1.7143]])\n",
      "Is a in contiguous memory? True\n",
      "The shape of a is 4\n",
      "The shape of a is torch.Size([4, 3])\n",
      "a is stored at location 140362434842496\n",
      "b is stored at location 140362434842496\n",
      "c is stored at location 140362467140480\n",
      "tensor([[ 0.3117, -1.9715,  2.3644],\n",
      "        [-0.6489,  0.0000, -0.7604],\n",
      "        [-0.4477, -0.0137,  0.2700],\n",
      "        [ 0.2834,  0.4906,  1.7143]])\n",
      "tensor([[ 0.3117, -1.9715,  2.3644],\n",
      "        [-0.6489,  0.0000, -0.7604],\n",
      "        [-0.4477, -0.0137,  0.2700],\n",
      "        [ 0.2834,  0.4906,  1.7143]])\n"
     ]
    }
   ],
   "source": [
    "import torch\n",
    "a = torch.randn([4,3])\n",
    "print(a)\n",
    "\n",
    "# is a in contiguous memory?\n",
    "# makes math faster\n",
    "print('Is a in contiguous memory? {}'.format(a.is_contiguous()))\n",
    "# get shape/size of the tensor\n",
    "print('The shape of a is {}'.format(a.size(0)))\n",
    "print('The shape of a is {}'.format(a.shape))\n",
    "# get the memory location of the tensor\n",
    "print('a is stored at location {}'.format(a.storage().data_ptr()))\n",
    "# put a onto CPU memory\n",
    "b = a.cpu()\n",
    "print('b is stored at location {}'.format(b.storage().data_ptr()))\n",
    "c = torch.exp(a)\n",
    "print('c is stored at location {}'.format(c.storage().data_ptr()))\n",
    "a[1,1] = 0\n",
    "print(a)\n",
    "print(b)\n"
   ]
  },
  {
   "cell_type": "markdown",
   "id": "e0aa2c00",
   "metadata": {
    "slideshow": {
     "slide_type": "slide"
    }
   },
   "source": [
    "More examples"
   ]
  },
  {
   "cell_type": "code",
   "execution_count": 176,
   "id": "19a280b4",
   "metadata": {
    "ExecuteTime": {
     "end_time": "2024-09-09T17:10:18.613043Z",
     "start_time": "2024-09-09T17:10:18.593971Z"
    },
    "slideshow": {
     "slide_type": "fragment"
    }
   },
   "outputs": [
    {
     "name": "stdout",
     "output_type": "stream",
     "text": [
      "tensor([[-0.9524, -1.1410,  1.1329],\n",
      "        [-2.1167, -0.8935,  0.9934],\n",
      "        [-0.9959,  0.3285,  0.1614]])\n",
      "tensor([[-0.8935,  0.9934],\n",
      "        [ 0.3285,  0.1614]])\n"
     ]
    }
   ],
   "source": [
    "a = torch.randn([3,3])\n",
    "b = a[1:3,1:3]\n",
    "print(a)\n",
    "print(b)"
   ]
  },
  {
   "cell_type": "code",
   "execution_count": 177,
   "id": "926f9fd0",
   "metadata": {
    "ExecuteTime": {
     "end_time": "2024-09-09T17:10:46.237987Z",
     "start_time": "2024-09-09T17:10:46.232440Z"
    },
    "slideshow": {
     "slide_type": "fragment"
    }
   },
   "outputs": [
    {
     "name": "stdout",
     "output_type": "stream",
     "text": [
      "tensor([[0.0000, 0.9934],\n",
      "        [0.3285, 0.1614]])\n",
      "tensor([[-0.9524, -1.1410,  1.1329],\n",
      "        [-2.1167,  0.0000,  0.9934],\n",
      "        [-0.9959,  0.3285,  0.1614]])\n"
     ]
    }
   ],
   "source": [
    "b[0,0] = 0\n",
    "print(b)\n",
    "print(a)"
   ]
  },
  {
   "cell_type": "code",
   "execution_count": 178,
   "id": "a897100f",
   "metadata": {
    "ExecuteTime": {
     "end_time": "2024-09-09T17:10:50.981356Z",
     "start_time": "2024-09-09T17:10:50.973198Z"
    },
    "slideshow": {
     "slide_type": "fragment"
    }
   },
   "outputs": [
    {
     "name": "stdout",
     "output_type": "stream",
     "text": [
      "140362623370944\n",
      "140362623370960\n"
     ]
    }
   ],
   "source": [
    "print(a.storage().data_ptr())\n",
    "print(b.data_ptr())"
   ]
  },
  {
   "cell_type": "code",
   "execution_count": 179,
   "id": "c0841a19-9101-4b9b-84fc-b87f784fa09f",
   "metadata": {
    "ExecuteTime": {
     "end_time": "2024-09-09T17:10:59.563616Z",
     "start_time": "2024-09-09T17:10:59.559332Z"
    }
   },
   "outputs": [
    {
     "name": "stdout",
     "output_type": "stream",
     "text": [
      "tensor([-0.9524, -1.1410,  1.1329, -2.1167,  0.0000,  0.9934, -0.9959,  0.3285,\n",
      "         0.1614])\n"
     ]
    }
   ],
   "source": [
    "print(a.view(-1))"
   ]
  },
  {
   "cell_type": "markdown",
   "id": "03bfecf6",
   "metadata": {
    "slideshow": {
     "slide_type": "slide"
    }
   },
   "source": [
    "We say that **```b``` is a view of ```a```**"
   ]
  },
  {
   "cell_type": "markdown",
   "id": "b0121e1a",
   "metadata": {
    "slideshow": {
     "slide_type": "slide"
    }
   },
   "source": [
    "## Operations which Create Views"
   ]
  },
  {
   "cell_type": "markdown",
   "id": "1f1e928b",
   "metadata": {
    "slideshow": {
     "slide_type": "slide"
    }
   },
   "source": [
    "Question: when is a view created and when does PyTorch create new storage for a tensor?"
   ]
  },
  {
   "cell_type": "markdown",
   "id": "f06b630d",
   "metadata": {
    "slideshow": {
     "slide_type": "fragment"
    }
   },
   "source": [
    "General recommendation: If you use a function for the first time check whether it creates a view or a new tensor!"
   ]
  },
  {
   "cell_type": "markdown",
   "id": "151f470e",
   "metadata": {
    "slideshow": {
     "slide_type": "slide"
    }
   },
   "source": [
    "Example 1:"
   ]
  },
  {
   "cell_type": "code",
   "execution_count": 180,
   "id": "2a191462",
   "metadata": {
    "ExecuteTime": {
     "end_time": "2024-09-09T17:14:06.592268Z",
     "start_time": "2024-09-09T17:14:06.582923Z"
    },
    "slideshow": {
     "slide_type": "fragment"
    }
   },
   "outputs": [],
   "source": [
    "a = torch.ones([3,3])\n",
    "b = a.exp() # equivalent to torch.exp(a)\n",
    "c = a.exp_() # equivalent to torch.exp_(a)"
   ]
  },
  {
   "cell_type": "code",
   "execution_count": 181,
   "id": "f16a7777",
   "metadata": {
    "ExecuteTime": {
     "end_time": "2024-09-09T17:14:08.596293Z",
     "start_time": "2024-09-09T17:14:08.592711Z"
    },
    "slideshow": {
     "slide_type": "fragment"
    }
   },
   "outputs": [
    {
     "name": "stdout",
     "output_type": "stream",
     "text": [
      "140362971505984\n",
      "140362971505984\n",
      "140361890631488\n",
      "140362971505984\n"
     ]
    }
   ],
   "source": [
    "print(a.storage().data_ptr())\n",
    "print(a.data_ptr())\n",
    "print(b.storage().data_ptr())\n",
    "print(c.storage().data_ptr())"
   ]
  },
  {
   "cell_type": "code",
   "execution_count": 182,
   "id": "4dc1718c",
   "metadata": {
    "ExecuteTime": {
     "end_time": "2024-09-09T17:14:15.487145Z",
     "start_time": "2024-09-09T17:14:15.478115Z"
    },
    "slideshow": {
     "slide_type": "fragment"
    }
   },
   "outputs": [
    {
     "ename": "SyntaxError",
     "evalue": "invalid syntax (2253851329.py, line 1)",
     "output_type": "error",
     "traceback": [
      "\u001b[0;36m  File \u001b[0;32m\"/var/folders/8x/f1kd8njn2c39mv0_qy8bysgr0000gn/T/ipykernel_5028/2253851329.py\"\u001b[0;36m, line \u001b[0;32m1\u001b[0m\n\u001b[0;31m    a[0,0] =\u001b[0m\n\u001b[0m             ^\u001b[0m\n\u001b[0;31mSyntaxError\u001b[0m\u001b[0;31m:\u001b[0m invalid syntax\n"
     ]
    }
   ],
   "source": [
    "a[0,0] = \n",
    "print(b)\n",
    "print(c)"
   ]
  },
  {
   "cell_type": "markdown",
   "id": "36f89450",
   "metadata": {
    "slideshow": {
     "slide_type": "slide"
    }
   },
   "source": [
    "Example 2:"
   ]
  },
  {
   "cell_type": "code",
   "execution_count": null,
   "id": "f5206cd8",
   "metadata": {
    "ExecuteTime": {
     "end_time": "2024-09-09T17:21:32.997935Z",
     "start_time": "2024-09-09T17:21:32.980276Z"
    },
    "slideshow": {
     "slide_type": "fragment"
    }
   },
   "outputs": [
    {
     "name": "stdout",
     "output_type": "stream",
     "text": [
      "tensor([[1., 1., 1.],\n",
      "        [1., 1., 1.],\n",
      "        [1., 1., 1.]])\n",
      "tensor([[1., 1., 1.],\n",
      "        [1., 1., 1.],\n",
      "        [1., 1., 1.]])\n"
     ]
    }
   ],
   "source": [
    "a = torch.ones([3,3])\n",
    "b = a.t()\n",
    "print(a)\n",
    "print(b)"
   ]
  },
  {
   "cell_type": "code",
   "execution_count": null,
   "id": "0f917581",
   "metadata": {
    "ExecuteTime": {
     "end_time": "2024-09-09T17:21:34.139786Z",
     "start_time": "2024-09-09T17:21:34.136845Z"
    },
    "slideshow": {
     "slide_type": "fragment"
    }
   },
   "outputs": [
    {
     "name": "stdout",
     "output_type": "stream",
     "text": [
      "140362623370944\n",
      "140362623370944\n"
     ]
    }
   ],
   "source": [
    "print(a.storage().data_ptr())\n",
    "print(b.storage().data_ptr())"
   ]
  },
  {
   "cell_type": "code",
   "execution_count": null,
   "id": "66e9f0d4",
   "metadata": {
    "ExecuteTime": {
     "end_time": "2024-09-09T17:16:02.047424Z",
     "start_time": "2024-09-09T17:16:02.030987Z"
    },
    "slideshow": {
     "slide_type": "fragment"
    }
   },
   "outputs": [
    {
     "name": "stdout",
     "output_type": "stream",
     "text": [
      "tensor([[ 1.,  1., -1.],\n",
      "        [ 1.,  1., -1.],\n",
      "        [ 1.,  1., -1.]])\n",
      "tensor([[ 1.,  1.,  1.],\n",
      "        [ 1.,  1.,  1.],\n",
      "        [-1., -1., -1.]])\n"
     ]
    }
   ],
   "source": [
    "b[2] = -1\n",
    "print(a)\n",
    "print(b)"
   ]
  },
  {
   "cell_type": "markdown",
   "id": "55e70aed",
   "metadata": {
    "slideshow": {
     "slide_type": "slide"
    }
   },
   "source": [
    "Example 3:"
   ]
  },
  {
   "cell_type": "code",
   "execution_count": null,
   "id": "67a61906",
   "metadata": {
    "ExecuteTime": {
     "end_time": "2024-09-09T17:24:45.561179Z",
     "start_time": "2024-09-09T17:24:45.550299Z"
    },
    "slideshow": {
     "slide_type": "fragment"
    }
   },
   "outputs": [
    {
     "name": "stdout",
     "output_type": "stream",
     "text": [
      "tensor([[0.1597, 0.9207, 0.1141],\n",
      "        [0.3670, 0.5752, 0.6518],\n",
      "        [0.5036, 0.2265, 0.9711]])\n",
      "tensor([[[0.1597, 0.9207, 0.1141],\n",
      "         [0.3670, 0.5752, 0.6518],\n",
      "         [0.5036, 0.2265, 0.9711]],\n",
      "\n",
      "        [[0.1597, 0.9207, 0.1141],\n",
      "         [0.3670, 0.5752, 0.6518],\n",
      "         [0.5036, 0.2265, 0.9711]],\n",
      "\n",
      "        [[0.1597, 0.9207, 0.1141],\n",
      "         [0.3670, 0.5752, 0.6518],\n",
      "         [0.5036, 0.2265, 0.9711]],\n",
      "\n",
      "        [[0.1597, 0.9207, 0.1141],\n",
      "         [0.3670, 0.5752, 0.6518],\n",
      "         [0.5036, 0.2265, 0.9711]]])\n"
     ]
    }
   ],
   "source": [
    "a = torch.rand([3,3])\n",
    "print(a)\n",
    "b = a.expand(4, -1, -1)\n",
    "print(b)"
   ]
  },
  {
   "cell_type": "code",
   "execution_count": null,
   "id": "9d121532",
   "metadata": {
    "ExecuteTime": {
     "end_time": "2024-09-09T17:23:08.671641Z",
     "start_time": "2024-09-09T17:23:08.667298Z"
    },
    "slideshow": {
     "slide_type": "fragment"
    }
   },
   "outputs": [
    {
     "name": "stdout",
     "output_type": "stream",
     "text": [
      "tensor([[[ 0.1597,  0.9207,  0.1141],\n",
      "         [ 0.3670,  0.5752,  0.6518],\n",
      "         [ 0.5036,  0.2265, -1.0000]],\n",
      "\n",
      "        [[ 0.1597,  0.9207,  0.1141],\n",
      "         [ 0.3670,  0.5752,  0.6518],\n",
      "         [ 0.5036,  0.2265, -1.0000]],\n",
      "\n",
      "        [[ 0.1597,  0.9207,  0.1141],\n",
      "         [ 0.3670,  0.5752,  0.6518],\n",
      "         [ 0.5036,  0.2265, -1.0000]],\n",
      "\n",
      "        [[ 0.1597,  0.9207,  0.1141],\n",
      "         [ 0.3670,  0.5752,  0.6518],\n",
      "         [ 0.5036,  0.2265, -1.0000]]])\n"
     ]
    }
   ],
   "source": [
    "b[1,2,2]=-1\n",
    "print(b)"
   ]
  },
  {
   "cell_type": "code",
   "execution_count": null,
   "id": "3c91dc50",
   "metadata": {
    "ExecuteTime": {
     "end_time": "2024-09-09T17:23:21.724889Z",
     "start_time": "2024-09-09T17:23:21.715507Z"
    },
    "slideshow": {
     "slide_type": "fragment"
    }
   },
   "outputs": [
    {
     "name": "stdout",
     "output_type": "stream",
     "text": [
      "tensor([[ 0.1597,  0.9207,  0.1141],\n",
      "        [ 0.3670,  0.5752,  0.6518],\n",
      "        [ 0.5036,  0.2265, -1.0000]])\n"
     ]
    }
   ],
   "source": [
    "print(a)"
   ]
  },
  {
   "cell_type": "code",
   "execution_count": null,
   "id": "40bb7021",
   "metadata": {
    "ExecuteTime": {
     "end_time": "2024-09-09T17:23:25.311849Z",
     "start_time": "2024-09-09T17:23:25.309026Z"
    }
   },
   "outputs": [
    {
     "name": "stdout",
     "output_type": "stream",
     "text": [
      "140362463743744\n",
      "140362463743744\n"
     ]
    }
   ],
   "source": [
    "print(a.storage().data_ptr())\n",
    "print(b.storage().data_ptr())"
   ]
  },
  {
   "cell_type": "markdown",
   "id": "6d1d706e",
   "metadata": {
    "slideshow": {
     "slide_type": "slide"
    }
   },
   "source": [
    "Example 4: How about ```unsqueeze()```?"
   ]
  },
  {
   "cell_type": "code",
   "execution_count": null,
   "id": "cb8a4f83-a81f-4f2f-9947-b99f2942ce8c",
   "metadata": {
    "ExecuteTime": {
     "end_time": "2024-09-09T19:23:02.588909Z",
     "start_time": "2024-09-09T19:23:02.460395Z"
    }
   },
   "outputs": [
    {
     "name": "stdout",
     "output_type": "stream",
     "text": [
      "tensor([[0.6978, 0.9269, 0.1834, 0.8706],\n",
      "        [0.8247, 0.1899, 0.3166, 0.7612],\n",
      "        [0.4333, 0.5241, 0.4288, 0.7710]])\n",
      "Tensor b is shape torch.Size([1, 3, 4])\n",
      "tensor([[[0.6978, 0.9269, 0.1834, 0.8706],\n",
      "         [0.8247, 0.1899, 0.3166, 0.7612],\n",
      "         [0.4333, 0.5241, 0.4288, 0.7710]]])\n",
      "Tensor c is shape torch.Size([3, 4, 1])\n",
      "tensor([[[0.6978],\n",
      "         [0.9269],\n",
      "         [0.1834],\n",
      "         [0.8706]],\n",
      "\n",
      "        [[0.8247],\n",
      "         [0.1899],\n",
      "         [0.3166],\n",
      "         [0.7612]],\n",
      "\n",
      "        [[0.4333],\n",
      "         [0.5241],\n",
      "         [0.4288],\n",
      "         [0.7710]]])\n",
      "Do tensors a and b share memory? True\n",
      "Do tensors b and c share memory? True\n",
      "a:\n",
      "tensor([[ 0.6978,  0.9269, 50.0000,  0.8706],\n",
      "        [ 0.8247,  0.1899,  0.3166,  0.7612],\n",
      "        [ 0.4333,  0.5241,  0.4288,  0.7710]])\n",
      "b:\n",
      "tensor([[[ 0.6978,  0.9269, 50.0000,  0.8706],\n",
      "         [ 0.8247,  0.1899,  0.3166,  0.7612],\n",
      "         [ 0.4333,  0.5241,  0.4288,  0.7710]]])\n",
      "c:\n",
      "tensor([[[ 0.6978],\n",
      "         [ 0.9269],\n",
      "         [50.0000],\n",
      "         [ 0.8706]],\n",
      "\n",
      "        [[ 0.8247],\n",
      "         [ 0.1899],\n",
      "         [ 0.3166],\n",
      "         [ 0.7612]],\n",
      "\n",
      "        [[ 0.4333],\n",
      "         [ 0.5241],\n",
      "         [ 0.4288],\n",
      "         [ 0.7710]]])\n"
     ]
    }
   ],
   "source": [
    "a = torch.rand((3, 4))\n",
    "print(a)\n",
    "b = a.unsqueeze(0) # add singleton dimension first\n",
    "print('Tensor b is shape {}'.format(b.size()))\n",
    "print(b)\n",
    "c = a.unsqueeze(-1) # add singleton dimension last\n",
    "print('Tensor c is shape {}'.format(c.size()))\n",
    "print(c)\n",
    "\n",
    "print('Do tensors a and b share memory? {}'.format(a.storage().data_ptr()==b.storage().data_ptr()))\n",
    "print('Do tensors b and c share memory? {}'.format(b.storage().data_ptr()==c.storage().data_ptr()))\n",
    "\n",
    "c[0, 2, 0] = 50\n",
    "print('a:')\n",
    "print(a)\n",
    "print('b:')\n",
    "print(b)\n",
    "print('c:')\n",
    "print(c)\n",
    "\n"
   ]
  },
  {
   "cell_type": "markdown",
   "id": "cb17cb90",
   "metadata": {
    "slideshow": {
     "slide_type": "fragment"
    }
   },
   "source": [
    "Many more functions create views: https://pytorch.org/docs/stable/tensor_view.html\n",
    "\n",
    "Particularly important: Indexing Operations"
   ]
  },
  {
   "cell_type": "markdown",
   "id": "c813c02d-4d45-494b-8b80-6f1117a576df",
   "metadata": {},
   "source": [
    "## Lecture Exercise\n",
    "\n",
    "For each of the following parts, ``x``, ``y``, and ``z`` are equally shaped tensors that are inputs to a function. For each part, write PyTorch code to compute each of the function result(s) by minimizing memory consumption. Input memory may be modified as long as all result(s) are correctly computed. All operations are element-wise and consider all parts independent.\n",
    "\n",
    "a) Result: $x\\ln(y)z^3$\n",
    "\n",
    "b) Results: $\\sqrt{x}$ and $x+yz$\n",
    "\n",
    "c) Result: $x\\cos(x)$"
   ]
  },
  {
   "cell_type": "code",
   "execution_count": null,
   "id": "e8ed2389-df8f-4a9e-98d1-fa9e8d206b98",
   "metadata": {},
   "outputs": [
    {
     "name": "stdout",
     "output_type": "stream",
     "text": [
      "tensor([[3.0107, 3.0180],\n",
      "        [3.1386, 3.0880],\n",
      "        [1.6389, 2.9265]])\n",
      "tensor([[3.0107, 3.0180],\n",
      "        [3.1386, 3.0880],\n",
      "        [1.6389, 2.9265]])\n",
      "tensor([[nan, nan],\n",
      "        [nan, nan],\n",
      "        [nan, nan]])\n",
      "tensor([[-0.3550, -0.3550],\n",
      "        [-0.3550, -0.3550],\n",
      "        [-0.3550, -0.3550]])\n",
      "tensor([[-0.3550, -0.3550],\n",
      "        [-0.3550, -0.3550],\n",
      "        [-0.3550, -0.3550]])\n"
     ]
    }
   ],
   "source": [
    "import torch\n",
    "import numpy as np\n",
    "shape = (3, 2)\n",
    "x = torch.ones(shape)*np.pi\n",
    "y = torch.rand(shape)\n",
    "z = torch.rand(shape)\n",
    "\n",
    "# a\n",
    "a = torch.log_(y).mul_(x).mul_(z**3)\n",
    "a1= torch.log(y)*x*z**3\n",
    "\n",
    "# b\n",
    "b1 = y.mul_(z).add_(x)\n",
    "b2 = torch.sqrt_(x)\n",
    "\n",
    "# c\n",
    "d = torch.cos(x)*x\n",
    "c = torch.cos(x).mul_(x)\n",
    "print(y)\n",
    "print(a)\n",
    "print(a1)\n",
    "print(d)\n",
    "print(c)"
   ]
  },
  {
   "cell_type": "markdown",
   "id": "003981ff",
   "metadata": {
    "slideshow": {
     "slide_type": "slide"
    }
   },
   "source": [
    "## Basic Indexing"
   ]
  },
  {
   "cell_type": "markdown",
   "id": "4f92b357",
   "metadata": {
    "slideshow": {
     "slide_type": "slide"
    }
   },
   "source": [
    "Example 1:"
   ]
  },
  {
   "cell_type": "code",
   "execution_count": null,
   "id": "d0f33b73",
   "metadata": {
    "ExecuteTime": {
     "end_time": "2024-09-09T19:26:27.888617Z",
     "start_time": "2024-09-09T19:26:27.878106Z"
    },
    "slideshow": {
     "slide_type": "fragment"
    }
   },
   "outputs": [],
   "source": [
    "a = torch.rand([4,3])\n",
    "b = a[1:3,1:2]\n",
    "b[1,0] = 0"
   ]
  },
  {
   "cell_type": "code",
   "execution_count": null,
   "id": "0024b5b9",
   "metadata": {
    "ExecuteTime": {
     "end_time": "2024-09-09T19:26:31.115069Z",
     "start_time": "2024-09-09T19:26:31.110469Z"
    },
    "slideshow": {
     "slide_type": "fragment"
    }
   },
   "outputs": [
    {
     "name": "stdout",
     "output_type": "stream",
     "text": [
      "tensor([[0.9957, 0.9851, 0.0866],\n",
      "        [0.7027, 0.4694, 0.2212],\n",
      "        [0.4072, 0.0000, 0.9309],\n",
      "        [0.9985, 0.4940, 0.3727]])\n"
     ]
    }
   ],
   "source": [
    "print(a)"
   ]
  },
  {
   "cell_type": "markdown",
   "id": "06a17387",
   "metadata": {
    "slideshow": {
     "slide_type": "slide"
    }
   },
   "source": [
    "Example 2:"
   ]
  },
  {
   "cell_type": "code",
   "execution_count": null,
   "id": "91bbe9b9",
   "metadata": {
    "ExecuteTime": {
     "end_time": "2024-09-09T19:30:51.127308Z",
     "start_time": "2024-09-09T19:30:51.102989Z"
    },
    "slideshow": {
     "slide_type": "fragment"
    }
   },
   "outputs": [
    {
     "name": "stdout",
     "output_type": "stream",
     "text": [
      "tensor([[ 0,  1,  2,  3,  4,  5,  6,  7,  8,  9],\n",
      "        [10, 11, 12, 13, 14, 15, 16, 17, 18, 19],\n",
      "        [20, 21, 22, 23, 24, 25, 26, 27, 28, 29],\n",
      "        [30, 31, 32, 33, 34, 35, 36, 37, 38, 39],\n",
      "        [40, 41, 42, 43, 44, 45, 46, 47, 48, 49],\n",
      "        [50, 51, 52, 53, 54, 55, 56, 57, 58, 59],\n",
      "        [60, 61, 62, 63, 64, 65, 66, 67, 68, 69],\n",
      "        [70, 71, 72, 73, 74, 75, 76, 77, 78, 79],\n",
      "        [80, 81, 82, 83, 84, 85, 86, 87, 88, 89],\n",
      "        [90, 91, 92, 93, 94, 95, 96, 97, 98, 99]])\n",
      "True\n",
      "tensor([[ 1,  4],\n",
      "        [21, 24],\n",
      "        [41, 44],\n",
      "        [61, 64],\n",
      "        [81, 84]])\n",
      "tensor([[ 1,  4],\n",
      "        [21, 24],\n",
      "        [41,  0],\n",
      "        [61, 64],\n",
      "        [81, 84]])\n"
     ]
    }
   ],
   "source": [
    "a = torch.arange(100).view(10,10)\n",
    "print(a)\n",
    "\"\"\"however the advanced indexing like using arrays or tensors as indices or using boolean tensors\n",
    ".If you combine basic indexing (like slices) with advanced indexing (like tensor indices), the result is advanced indexing. Advanced indexing usually returns a copy (new memory allocation).\n",
    "\"\"\"\n",
    "b = a[::2, 1:5:3] #pytorch doesn't support negative steps!\n",
    "print(a.storage().data_ptr()==b.storage().data_ptr())\n",
    "print(b)\n",
    "b[2,1] = 0\n",
    "print(b)"
   ]
  },
  {
   "cell_type": "code",
   "execution_count": null,
   "id": "04b5e593",
   "metadata": {
    "ExecuteTime": {
     "end_time": "2024-09-09T19:27:54.204991Z",
     "start_time": "2024-09-09T19:27:54.196264Z"
    },
    "slideshow": {
     "slide_type": "fragment"
    }
   },
   "outputs": [
    {
     "name": "stdout",
     "output_type": "stream",
     "text": [
      "tensor([[ 0,  1,  2,  3,  4,  5,  6,  7,  8,  9],\n",
      "        [10, 11, 12, 13, 14, 15, 16, 17, 18, 19],\n",
      "        [20, 21, 22, 23, 24, 25, 26, 27, 28, 29],\n",
      "        [30, 31, 32, 33, 34, 35, 36, 37, 38, 39],\n",
      "        [40, 41, 42, 43,  0, 45, 46, 47, 48, 49],\n",
      "        [50, 51, 52, 53, 54, 55, 56, 57, 58, 59],\n",
      "        [60, 61, 62, 63, 64, 65, 66, 67, 68, 69],\n",
      "        [70, 71, 72, 73, 74, 75, 76, 77, 78, 79],\n",
      "        [80, 81, 82, 83, 84, 85, 86, 87, 88, 89],\n",
      "        [90, 91, 92, 93, 94, 95, 96, 97, 98, 99]])\n"
     ]
    }
   ],
   "source": [
    "print(a)"
   ]
  },
  {
   "cell_type": "code",
   "execution_count": null,
   "id": "fcf25ed5",
   "metadata": {
    "ExecuteTime": {
     "end_time": "2024-09-09T19:28:26.555332Z",
     "start_time": "2024-09-09T19:28:26.552440Z"
    },
    "slideshow": {
     "slide_type": "fragment"
    }
   },
   "outputs": [
    {
     "name": "stdout",
     "output_type": "stream",
     "text": [
      "140362623392064\n",
      "140362623392064\n"
     ]
    }
   ],
   "source": [
    "print(a.storage().data_ptr())\n",
    "print(b.storage().data_ptr())"
   ]
  },
  {
   "cell_type": "markdown",
   "id": "b37ad336",
   "metadata": {
    "slideshow": {
     "slide_type": "slide"
    }
   },
   "source": [
    "## Advanced Indexing"
   ]
  },
  {
   "cell_type": "markdown",
   "id": "8467cdca",
   "metadata": {
    "slideshow": {
     "slide_type": "slide"
    }
   },
   "source": [
    "Check notes on Numpy indexing: https://numpy.org/doc/stable/user/basics.indexing.html#basics-indexing"
   ]
  },
  {
   "cell_type": "markdown",
   "id": "07fbaee8",
   "metadata": {
    "slideshow": {
     "slide_type": "slide"
    }
   },
   "source": [
    "Example 3:"
   ]
  },
  {
   "cell_type": "code",
   "execution_count": null,
   "id": "0f2cb01b",
   "metadata": {
    "ExecuteTime": {
     "end_time": "2024-09-09T19:39:09.030247Z",
     "start_time": "2024-09-09T19:39:09.016637Z"
    },
    "slideshow": {
     "slide_type": "fragment"
    }
   },
   "outputs": [
    {
     "name": "stdout",
     "output_type": "stream",
     "text": [
      "tensor([[ 0,  1,  2,  3,  4,  5,  6,  7,  8,  9],\n",
      "        [10, 11, 12, 13, 14, 15, 16, 17, 18, 19],\n",
      "        [20, 21, 22, 23, 24, 25, 26, 27, 28, 29],\n",
      "        [30, 31, 32, 33, 34, 35, 36, 37, 38, 39],\n",
      "        [40, 41, 42, 43, 44, 45, 46, 47, 48, 49],\n",
      "        [50, 51, 52, 53, 54, 55, 56, 57, 58, 59],\n",
      "        [60, 61, 62, 63, 64, 65, 66, 67, 68, 69],\n",
      "        [70, 71, 72, 73, 74, 75, 76, 77, 78, 79],\n",
      "        [80, 81, 82, 83, 84, 85, 86, 87, 88, 89],\n",
      "        [90, 91, 92, 93, 94, 95, 96, 97, 98, 99]])\n",
      "tensor([[ 1,  4],\n",
      "        [11, 14],\n",
      "        [31, 34],\n",
      "        [41, 44],\n",
      "        [71, 74]])\n"
     ]
    }
   ],
   "source": [
    "a = torch.arange(100).view(10,10)\n",
    "print(a)\n",
    "b = a[[0,1,3,4,7],1:5:3]\n",
    "print(b)\n",
    "c = b\n",
    "d = a[5,:]"
   ]
  },
  {
   "cell_type": "code",
   "execution_count": null,
   "id": "afe4534d",
   "metadata": {
    "ExecuteTime": {
     "end_time": "2024-09-09T19:39:11.307650Z",
     "start_time": "2024-09-09T19:39:11.303582Z"
    },
    "slideshow": {
     "slide_type": "fragment"
    }
   },
   "outputs": [
    {
     "name": "stdout",
     "output_type": "stream",
     "text": [
      "140362623389760\n",
      "140362623393280\n",
      "140362623393280\n",
      "140362623389760\n"
     ]
    }
   ],
   "source": [
    "print(a.storage().data_ptr())\n",
    "print(b.storage().data_ptr())\n",
    "print(c.storage().data_ptr())\n",
    "print(d.storage().data_ptr())"
   ]
  },
  {
   "cell_type": "markdown",
   "id": "c22a106f",
   "metadata": {
    "slideshow": {
     "slide_type": "slide"
    }
   },
   "source": [
    "Example 4:"
   ]
  },
  {
   "cell_type": "code",
   "execution_count": 190,
   "id": "418b9b9b",
   "metadata": {
    "ExecuteTime": {
     "end_time": "2024-09-09T19:39:41.697214Z",
     "start_time": "2024-09-09T19:39:41.686490Z"
    },
    "slideshow": {
     "slide_type": "fragment"
    }
   },
   "outputs": [
    {
     "name": "stdout",
     "output_type": "stream",
     "text": [
      "tensor([[ 0,  1,  2,  3,  4,  5,  6,  7,  8,  9],\n",
      "        [10, 11, 12, 13, 14, 15, 16, 17, 18, 19],\n",
      "        [20, 21, 22, 23, 24, 25, 26, 27, 28, 29],\n",
      "        [30, 31, 32, 33, 34, 35, 36, 37, 38, 39],\n",
      "        [40, 41, 42, 43, 44, 45, 46, 47, 48, 49],\n",
      "        [50, 51, 52, 53, 54, 55, 56, 57, 58, 59],\n",
      "        [60, 61, 62, 63, 64, 65, 66, 67, 68, 69],\n",
      "        [70, 71, 72, 73, 74, 75, 76, 77, 78, 79],\n",
      "        [80, 81, 82, 83, 84, 85, 86, 87, 88, 89],\n",
      "        [90, 91, 92, 93, 94, 95, 96, 97, 98, 99]])\n"
     ]
    }
   ],
   "source": [
    "a = torch.arange(100).view(10,10)\n",
    "print(a)\n",
    "b = a[:,0]/20==1"
   ]
  },
  {
   "cell_type": "code",
   "execution_count": 191,
   "id": "494a6906",
   "metadata": {
    "ExecuteTime": {
     "end_time": "2024-09-09T19:40:02.140916Z",
     "start_time": "2024-09-09T19:40:02.138134Z"
    },
    "slideshow": {
     "slide_type": "fragment"
    }
   },
   "outputs": [
    {
     "name": "stdout",
     "output_type": "stream",
     "text": [
      "tensor([False, False,  True, False, False, False, False, False, False, False])\n"
     ]
    }
   ],
   "source": [
    "print(b)"
   ]
  },
  {
   "cell_type": "code",
   "execution_count": 189,
   "id": "0589ee04",
   "metadata": {
    "ExecuteTime": {
     "end_time": "2024-09-09T19:40:04.100854Z",
     "start_time": "2024-09-09T19:40:04.091464Z"
    },
    "slideshow": {
     "slide_type": "fragment"
    }
   },
   "outputs": [
    {
     "name": "stdout",
     "output_type": "stream",
     "text": [
      "tensor([20])\n",
      "tensor([20, 21, 22, 23, 24, 25, 26, 27, 28, 29])\n"
     ]
    }
   ],
   "source": [
    "c = a[b,:]\n",
    "d = a[2,:]\n",
    "print(c)\n",
    "print(d)"
   ]
  },
  {
   "cell_type": "code",
   "execution_count": null,
   "id": "52a4668e",
   "metadata": {
    "ExecuteTime": {
     "end_time": "2024-09-09T19:40:07.121607Z",
     "start_time": "2024-09-09T19:40:07.118639Z"
    },
    "slideshow": {
     "slide_type": "fragment"
    }
   },
   "outputs": [
    {
     "name": "stdout",
     "output_type": "stream",
     "text": [
      "140362623386816\n",
      "140362622048320\n",
      "140362623386816\n"
     ]
    }
   ],
   "source": [
    "print(a.storage().data_ptr())\n",
    "print(c.storage().data_ptr())\n",
    "print(d.storage().data_ptr())"
   ]
  },
  {
   "cell_type": "code",
   "execution_count": null,
   "id": "8a902d28-8efc-4109-aff5-acf13348fe6d",
   "metadata": {},
   "outputs": [
    {
     "name": "stdout",
     "output_type": "stream",
     "text": [
      "tensor([[ 0,  1,  2,  3,  4,  5,  6,  7,  8,  9],\n",
      "        [10, 11, 12, 13, 14, 15, 16, 17, 18, 19],\n",
      "        [20, 21, 22, 23, 24, 25, 26, 27, 28, 29],\n",
      "        [30, 31, 32, 33, 34, 35, 36, 37, 38, 39],\n",
      "        [40, 41, 42, 43, 44, 45, 46, 47, 48, 49],\n",
      "        [50, 51, 52, 53, 54, 55, 56, 57, 58, 59],\n",
      "        [60, 61, 62, 63, 64, 65, 66, 67, 68, 69],\n",
      "        [70, 71, 72, 73, 74, 75, 76, 77, 78, 79],\n",
      "        [80, 81, 82, 83, 84, 85, 86, 87, 88, 89],\n",
      "        [90, 91, 92, 93, 94, 95, 96, 97, 98, 99]])\n",
      "tensor([[ True, False, False, False, False, False, False,  True, False, False],\n",
      "        [False, False, False, False,  True, False, False, False, False, False],\n",
      "        [False,  True, False, False, False, False, False, False,  True, False],\n",
      "        [False, False, False, False, False,  True, False, False, False, False],\n",
      "        [False, False,  True, False, False, False, False, False, False,  True],\n",
      "        [False, False, False, False, False, False,  True, False, False, False],\n",
      "        [False, False, False,  True, False, False, False, False, False, False],\n",
      "        [ True, False, False, False, False, False, False,  True, False, False],\n",
      "        [False, False, False, False,  True, False, False, False, False, False],\n",
      "        [False,  True, False, False, False, False, False, False,  True, False]])\n",
      "tensor([ 0,  7, 14, 21, 28, 35, 42, 49, 56, 63, 70, 77, 84, 91, 98])\n"
     ]
    }
   ],
   "source": [
    "# let's check for all multiples of 7\n",
    "print(a)\n",
    "b = a%7==0\n",
    "print(b)\n",
    "print(a[b])"
   ]
  },
  {
   "cell_type": "markdown",
   "id": "e3dfa439",
   "metadata": {
    "slideshow": {
     "slide_type": "slide"
    }
   },
   "source": [
    "General recommendation: CPU and GPU memory is scarce most of the time. Create views whenever possible which is also much faster."
   ]
  },
  {
   "cell_type": "markdown",
   "id": "0334afc1-850d-457d-be1b-62b5688eb845",
   "metadata": {},
   "source": [
    "## Lecture Exercise\n",
    "For each of the following parts, generate the requested data using array/tensor slicing and truth arrays. Use the provided code for variable ``x`` as the data source.\n",
    "\n",
    "a) Extract every third element of the last row.\n",
    "\n",
    "b) Extract every multiple of 9.\n",
    "\n",
    "c) Extract every perfect square."
   ]
  },
  {
   "cell_type": "code",
   "execution_count": 6,
   "id": "82a8cf9c-e77d-4fb8-a2f9-7e8bcd659e6c",
   "metadata": {},
   "outputs": [
    {
     "name": "stdout",
     "output_type": "stream",
     "text": [
      "tensor([[87,  4, 85, 32, 89,  9, 19, 83, 27, 27],\n",
      "        [56, 64, 12, 53, 66, 22, 35, 66, 59, 87],\n",
      "        [91,  8,  5, 14, 56, 99, 15,  0, 44, 65],\n",
      "        [70, 60, 46, 66, 71, 51, 53, 36, 93, 90],\n",
      "        [96,  1, 77, 95, 84, 94, 21, 72, 20, 91],\n",
      "        [ 9, 32, 97, 41, 13, 45, 99, 25, 13, 83],\n",
      "        [48, 95, 92, 93, 71, 25, 16, 26,  7, 79],\n",
      "        [ 8, 45,  2, 85, 71, 84, 16, 56, 64, 49],\n",
      "        [30, 55, 83, 34,  9, 92, 86, 31, 61,  6],\n",
      "        [83, 78, 73, 13, 65, 11, 65, 17, 90, 10]])\n",
      "tensor([83, 13, 65, 10])\n",
      "tensor([ 9, 27, 27, 99,  0, 36, 90, 72,  9, 45, 99, 45,  9, 90])\n",
      "tensor([ 4,  9, 64,  0, 36,  1,  9, 25, 25, 16, 16, 64, 49,  9])\n"
     ]
    }
   ],
   "source": [
    "import torch\n",
    "x = torch.randint(low=0, high=100, size=(10, 10))\n",
    "print(x)\n",
    "print(x[-1, ::3]) # part a\n",
    "print(x[x % 9 == 0]) # part b\n",
    "print(x[torch.sqrt(x) % 1 ==0]) # part c"
   ]
  }
 ],
 "metadata": {
  "celltoolbar": "Slideshow",
  "kernelspec": {
   "display_name": "Python 3 (ipykernel)",
   "language": "python",
   "name": "python3"
  },
  "language_info": {
   "codemirror_mode": {
    "name": "ipython",
    "version": 3
   },
   "file_extension": ".py",
   "mimetype": "text/x-python",
   "name": "python",
   "nbconvert_exporter": "python",
   "pygments_lexer": "ipython3",
   "version": "3.9.19"
  }
 },
 "nbformat": 4,
 "nbformat_minor": 5
}
