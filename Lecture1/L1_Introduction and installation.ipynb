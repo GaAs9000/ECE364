{
 "cells": [
  {
   "cell_type": "markdown",
   "id": "221343bb",
   "metadata": {
    "panel-layout": {
     "height": 120.9666748046875,
     "visible": true,
     "width": 100
    },
    "slideshow": {
     "slide_type": "slide"
    }
   },
   "source": [
    "# Lecture 1 - Introduction and software install\n",
    "## ECE364 - Programming Methods for Machine Learning\n",
    "### Farzad Kamalabadi and Corey Snyder (note credits to Alex Schwing and Yun-Sheng Chen)"
   ]
  },
  {
   "cell_type": "markdown",
   "id": "fbcd4f6e",
   "metadata": {
    "panel-layout": {
     "height": 132.75,
     "visible": true,
     "width": 100
    },
    "slideshow": {
     "slide_type": "slide"
    }
   },
   "source": [
    "Goals of this lecture:\n",
    "- Organizational details\n",
    "- Introduction\n",
    "- Software installation\n",
    "- Examples"
   ]
  },
  {
   "cell_type": "markdown",
   "id": "d536a2a5",
   "metadata": {
    "panel-layout": {
     "height": 50.850006103515625,
     "visible": true,
     "width": 100
    },
    "slideshow": {
     "slide_type": "slide"
    }
   },
   "source": [
    "## Organizational Details"
   ]
  },
  {
   "cell_type": "markdown",
   "id": "76020e62",
   "metadata": {
    "panel-layout": {
     "height": 51.15000915527344,
     "visible": true,
     "width": 100
    },
    "slideshow": {
     "slide_type": "slide"
    }
   },
   "source": [
    "Let's check the **website**."
   ]
  },
  {
   "cell_type": "markdown",
   "id": "a9d3e709",
   "metadata": {
    "panel-layout": {
     "height": 138.40000915527344,
     "visible": true,
     "width": 100
    },
    "slideshow": {
     "slide_type": "slide"
    }
   },
   "source": [
    "- Grading policy: 40% Homework; 30% Midterm 1; 30% Midterm 2\n",
    "- Homework: ~8 written homework assignments throughout the semester submitted to Gradescope\n",
    "- Programming assignments: TBA\n",
    "- Midterm: October 10 2024 during class\n",
    "- Final exam: December 10 2024 during class\n",
    "- Course website: https://courses.grainger.illinois.edu/ece364/fa2024"
   ]
  },
  {
   "cell_type": "markdown",
   "id": "117cb356",
   "metadata": {
    "panel-layout": {
     "height": 50.850006103515625,
     "visible": true,
     "width": 100
    },
    "slideshow": {
     "slide_type": "slide"
    }
   },
   "source": [
    "## Introduction"
   ]
  },
  {
   "cell_type": "markdown",
   "id": "df15693f",
   "metadata": {
    "panel-layout": {
     "height": 148.06666564941406,
     "visible": true,
     "width": 100
    },
    "slideshow": {
     "slide_type": "slide"
    }
   },
   "source": [
    "### Discuss with your class mates\n",
    "\n",
    "- Introduce yourself\n",
    "- What do you know about deep learning?\n",
    "- Do you have any prior experience with deep learning?\n",
    "- What would you like to learn in this class?\n",
    "- Which aspects or topics of machine learning, artificial intelligence, and data science excite you?"
   ]
  },
  {
   "cell_type": "markdown",
   "id": "b213660e",
   "metadata": {
    "panel-layout": {
     "height": 229.4166717529297,
     "visible": true,
     "width": 100
    },
    "slideshow": {
     "slide_type": "slide"
    }
   },
   "source": [
    "### Welcome to ECE 364: Programming Methods for Machine Learning\n",
    "\n",
    "In this course you will:\n",
    "* Learn the fundamentals of Pytorch for machine learning and deep learning\n",
    "  * Efficient storage\n",
    "  * Computational graphs and backpropagation\n",
    "  * Formatting data and training deep networks\n",
    "* Get to know linear algebra using Python\n",
    "* Fit regression and classification models using auto-differentiation\n",
    "* Build complex neural/deep networks\n",
    "* ... and more!"
   ]
  },
  {
   "cell_type": "code",
   "execution_count": null,
   "id": "842df1ec",
   "metadata": {},
   "outputs": [],
   "source": []
  },
  {
   "cell_type": "markdown",
   "id": "e2b108bd",
   "metadata": {
    "panel-layout": {
     "height": 107.36666870117188,
     "visible": true,
     "width": 100
    },
    "slideshow": {
     "slide_type": "slide"
    }
   },
   "source": [
    "### Your instructors:\n",
    "\n",
    "Prof. Farzad Kamalabadi: farzadk@illinois.edu\n",
    "\n",
    "Prof. Corey Snyder: cesnyde2@illinois.edu\n",
    "\n"
   ]
  },
  {
   "cell_type": "markdown",
   "id": "d978e7c6",
   "metadata": {
    "panel-layout": {
     "height": 161.65000915527344,
     "visible": true,
     "width": 100
    },
    "slideshow": {
     "slide_type": "slide"
    }
   },
   "source": [
    "We will use PyTorch which is an open source machine learning library based on the Torch library, used for applications such as computer vision and natural language processing, primarily developed by Facebook's AI Research lab.\n",
    "\n",
    "We use PyTorch to: \n",
    "- Quickly protype complex neural networks\n",
    "- Do fast auto-gradient computations \n",
    "- Utilize known ML corpora/models "
   ]
  },
  {
   "cell_type": "markdown",
   "id": "d6fe88c5",
   "metadata": {
    "panel-layout": {
     "height": 50.850006103515625,
     "visible": true,
     "width": 100
    },
    "slideshow": {
     "slide_type": "slide"
    }
   },
   "source": [
    "## Software installation"
   ]
  },
  {
   "cell_type": "markdown",
   "id": "b113380a",
   "metadata": {
    "panel-layout": {
     "height": 44.083343505859375,
     "visible": true,
     "width": 100
    },
    "slideshow": {
     "slide_type": "slide"
    }
   },
   "source": [
    "### To use PyTorch, you will need a Python environment. You can install Python with: "
   ]
  },
  {
   "cell_type": "markdown",
   "id": "be370fd7",
   "metadata": {
    "panel-layout": {
     "height": 97.94999694824219,
     "visible": true,
     "width": 100
    },
    "slideshow": {
     "slide_type": "fragment"
    }
   },
   "source": [
    "- Anaconda - a Python distribution aimed at package management which installs many packages directly (https://www.anaconda.com/products/individual)\n",
    "- Miniconda - another Python package manager which only installs the minimum number of necessary packages (https://docs.conda.io/en/latest/miniconda.html)\n",
    "\n",
    "Which one? https://docs.conda.io/projects/conda/en/latest/user-guide/install/download.html#anaconda-or-miniconda"
   ]
  },
  {
   "cell_type": "markdown",
   "id": "032111a7",
   "metadata": {
    "panel-layout": {
     "height": 51.40000915527344,
     "visible": true,
     "width": 100
    },
    "slideshow": {
     "slide_type": "fragment"
    }
   },
   "source": [
    "- Using a Unix software manager (brew, apt-get, yum, etc.)"
   ]
  },
  {
   "cell_type": "markdown",
   "id": "df9c66c6",
   "metadata": {
    "panel-layout": {
     "height": 51.40000915527344,
     "visible": true,
     "width": 100
    },
    "slideshow": {
     "slide_type": "fragment"
    }
   },
   "source": [
    "- Direct download from the website. "
   ]
  },
  {
   "cell_type": "markdown",
   "id": "c89c7ff4",
   "metadata": {
    "panel-layout": {
     "height": 209.4499969482422,
     "visible": true,
     "width": 100
    },
    "slideshow": {
     "slide_type": "slide"
    }
   },
   "source": [
    "How to use conda:\n",
    "- Check the conda cheat sheet: \n",
    "    * https://conda.io/projects/conda/en/latest/user-guide/getting-started.html#starting-conda \n",
    "    * https://docs.conda.io/projects/conda/en/4.6.0/_downloads/52a95608c49671267e40c689e0bc00ca/conda-cheatsheet.pdf\n",
    "    \n",
    "Typically:\n",
    "- create an environment with ```$ conda create --name {EnvironmentName} python=3.8```\n",
    "- activate the environment with ```$ conda activate {EnvironmentName}```\n",
    "- deactivate the environment when done with ```$ conda deactivate```"
   ]
  },
  {
   "cell_type": "markdown",
   "id": "4fd51f70",
   "metadata": {
    "panel-layout": {
     "height": 185.65000915527344,
     "visible": true,
     "width": 100
    },
    "slideshow": {
     "slide_type": "slide"
    }
   },
   "source": [
    "Verify your Python installation (after activating the environment) by typing: \n",
    "\n",
    "``` $ python --version ``` \n",
    "or ``` $ python -V ``` \n",
    "\n",
    "in the command line. You should get:\n",
    "\n",
    "``` Python 3.8.8 ```\n",
    "\n",
    "Using Python3 in this course. "
   ]
  },
  {
   "cell_type": "markdown",
   "id": "182f7aaf",
   "metadata": {
    "panel-layout": {
     "height": 109.69999694824219,
     "visible": true,
     "width": 100
    },
    "slideshow": {
     "slide_type": "slide"
    }
   },
   "source": [
    "To check which python you are using you may type\n",
    "\n",
    "``` $ which python ```\n",
    "\n",
    "which should point you to the current python executable that you will use."
   ]
  },
  {
   "cell_type": "markdown",
   "id": "0c06af40",
   "metadata": {
    "panel-layout": {
     "height": 282.066650390625,
     "visible": true,
     "width": 100
    },
    "slideshow": {
     "slide_type": "slide"
    }
   },
   "source": [
    "### Install Python libraries\n",
    "Pip is the Python Packaging Authority’s recommended tool for installing packages. <br>\n",
    "Conda is a cross platform package and environment manager that installs and manages conda packages from the Anaconda repository. <br> \n",
    "You may check here (https://www.anaconda.com/blog/understanding-conda-and-pip) for the difference between conda and pip<br>\n",
    "\n",
    "You can use ``` conda install ``` or ```pip3``` to install python libraries. Here are examples using Conda \n",
    "\n",
    "- To install numpy: ``` $ conda install numpy ```\n",
    "- To install pytorch: ``` $ conda install pytorch torchvision torchaudio -c pytorch ```\n",
    "\n",
    "To start an interactive python environment type ``` $ python ```\n",
    "\n",
    "Within the interactive python environment you can load numpy or pytorch via"
   ]
  },
  {
   "cell_type": "code",
   "execution_count": null,
   "id": "c8072f2f",
   "metadata": {
    "cell_style": "split",
    "panel-layout": {
     "height": 0,
     "visible": true,
     "width": 100
    },
    "slideshow": {
     "slide_type": "fragment"
    }
   },
   "outputs": [],
   "source": [
    "import numpy as np\n",
    "print(np.__version__)"
   ]
  },
  {
   "cell_type": "code",
   "execution_count": null,
   "id": "0a26e4d8",
   "metadata": {
    "cell_style": "split",
    "panel-layout": {
     "height": 0,
     "visible": true,
     "width": 100
    },
    "slideshow": {
     "slide_type": "fragment"
    }
   },
   "outputs": [],
   "source": [
    "import torch\n",
    "print(torch.__version__)"
   ]
  },
  {
   "cell_type": "markdown",
   "id": "9e5737e8",
   "metadata": {
    "panel-layout": {
     "height": 182.86666870117188,
     "visible": true,
     "width": 100
    },
    "slideshow": {
     "slide_type": "slide"
    }
   },
   "source": [
    "### Coding environments\n",
    "\n",
    "- You can use any IDE (integrated development environment) you are most comfortable with (such as VSCode, PyCharm). \n",
    "- Class slides/notes consist of Jupyter notebooks\n",
    "- Highly recommend using Jupyter notebooks for code development\n",
    "    - Run Jupyter notebooks locally using Anaconda/Miniconda (``` $ conda install -c conda-forge notebook ``` or ``` $ conda install -c conda-forge jupyterlab ```)\n",
    "    - Run notebooks remotely using Google Colab\n",
    "- Highly recommend using Git for saving/sharing work. (https://docs.qubole.com/en/latest/user-guide/notebooks-and-dashboards/notebooks/jupyter-notebooks/managing-jupy-notebook-versions/link-jupy-notebook-github.html#push-commit-jupy)"
   ]
  },
  {
   "cell_type": "markdown",
   "id": "fc58aad3",
   "metadata": {
    "panel-layout": {
     "height": 78.4666748046875,
     "visible": true,
     "width": 100
    },
    "slideshow": {
     "slide_type": "slide"
    }
   },
   "source": [
    "### Jupyter notebook demonstration (on Google colab)\n",
    "\n",
    "- http://colab.research.google.com (provides access to GPUs and TPUs)"
   ]
  },
  {
   "cell_type": "markdown",
   "id": "c7ee78e5",
   "metadata": {
    "panel-layout": {
     "height": 50.850006103515625,
     "visible": true,
     "width": 100
    },
    "slideshow": {
     "slide_type": "slide"
    }
   },
   "source": [
    "## Examples"
   ]
  },
  {
   "cell_type": "markdown",
   "id": "db78c7eb",
   "metadata": {
    "panel-layout": {
     "height": 78.2166748046875,
     "visible": true,
     "width": 100
    },
    "slideshow": {
     "slide_type": "slide"
    }
   },
   "source": [
    "### Datasets\n",
    "\n",
    "PyTorch has a lot of public datasets (some of which we will use in this class): "
   ]
  },
  {
   "cell_type": "code",
   "execution_count": null,
   "id": "48154be1",
   "metadata": {
    "slideshow": {
     "slide_type": "fragment"
    }
   },
   "outputs": [],
   "source": [
    "from torchvision import datasets, transforms"
   ]
  },
  {
   "cell_type": "code",
   "execution_count": null,
   "id": "35d3495a",
   "metadata": {
    "slideshow": {
     "slide_type": "fragment"
    }
   },
   "outputs": [],
   "source": [
    "transform=transforms.Compose([transforms.ToTensor(), transforms.Normalize((0.1307,), (0.3081,))])\n",
    "dataset1 = datasets.MNIST('../data', train=True, download=True, transform=transform)\n",
    "train_loader = torch.utils.data.DataLoader(dataset1, batch_size=9)"
   ]
  },
  {
   "cell_type": "code",
   "execution_count": null,
   "id": "86649b49",
   "metadata": {
    "slideshow": {
     "slide_type": "fragment"
    }
   },
   "outputs": [],
   "source": [
    "# get some random training images\n",
    "dataiter = iter(train_loader)"
   ]
  },
  {
   "cell_type": "code",
   "execution_count": null,
   "id": "383d8565",
   "metadata": {
    "panel-layout": {
     "height": 701,
     "visible": true,
     "width": 100
    },
    "slideshow": {
     "slide_type": "fragment"
    }
   },
   "outputs": [],
   "source": [
    "import matplotlib.pyplot as plt\n",
    "images,labels = dataiter.next()\n",
    "#dataloader outputs 4D tensor [batch,channel,heaight,width]\n",
    "plt.imshow(np.transpose(images[1].numpy(), (1,2,0)), 'gray') \n",
    "print('Label: {}'.format(str(labels[1].numpy())))"
   ]
  },
  {
   "cell_type": "markdown",
   "id": "0c311ab6",
   "metadata": {
    "panel-layout": {
     "height": 78.2166748046875,
     "visible": true,
     "width": 100
    },
    "slideshow": {
     "slide_type": "slide"
    }
   },
   "source": [
    "### Deep Learning\n",
    "\n",
    "We will also get to learn how to train and use deep learning models."
   ]
  },
  {
   "cell_type": "markdown",
   "id": "4d84c684",
   "metadata": {
    "panel-layout": {
     "height": 51.15000915527344,
     "visible": true,
     "width": 100
    },
    "slideshow": {
     "slide_type": "slide"
    }
   },
   "source": [
    "**Example from a later class**"
   ]
  },
  {
   "cell_type": "code",
   "execution_count": null,
   "id": "280d2289",
   "metadata": {
    "slideshow": {
     "slide_type": "slide"
    }
   },
   "outputs": [],
   "source": [
    "from torchvision.models import ResNet18_Weights\n",
    "model = torch.hub.load('pytorch/vision:v0.13.0', 'resnet18', weights=ResNet18_Weights.DEFAULT)"
   ]
  },
  {
   "cell_type": "code",
   "execution_count": null,
   "id": "6296223c",
   "metadata": {
    "panel-layout": {
     "height": 701,
     "visible": true,
     "width": 100
    },
    "slideshow": {
     "slide_type": "slide"
    }
   },
   "outputs": [],
   "source": [
    "model.eval()\n",
    "print(model)"
   ]
  },
  {
   "cell_type": "code",
   "execution_count": null,
   "id": "c988ee8d",
   "metadata": {
    "slideshow": {
     "slide_type": "slide"
    }
   },
   "outputs": [],
   "source": [
    "filename = 'Corgi.jpeg'"
   ]
  },
  {
   "cell_type": "code",
   "execution_count": null,
   "id": "17819ee5",
   "metadata": {
    "slideshow": {
     "slide_type": "slide"
    }
   },
   "outputs": [],
   "source": [
    "from PIL import Image\n",
    "from torchvision import transforms\n",
    "input_image = Image.open(filename)"
   ]
  },
  {
   "cell_type": "code",
   "execution_count": null,
   "id": "d35ef526",
   "metadata": {
    "panel-layout": {
     "height": 728.1500244140625,
     "visible": true,
     "width": 100
    },
    "slideshow": {
     "slide_type": "slide"
    }
   },
   "outputs": [],
   "source": [
    "import matplotlib.pyplot as plt\n",
    "plt.imshow(input_image)"
   ]
  },
  {
   "cell_type": "code",
   "execution_count": null,
   "id": "6f9ce2fa",
   "metadata": {
    "panel-layout": {
     "height": 701,
     "visible": true,
     "width": 100
    },
    "slideshow": {
     "slide_type": "slide"
    }
   },
   "outputs": [],
   "source": [
    "preprocess = transforms.Compose([\n",
    "    transforms.Resize(256),\n",
    "    transforms.CenterCrop(224),\n",
    "    transforms.ToTensor(),\n",
    "    transforms.Normalize(mean=[0.485, 0.456, 0.406], std=[0.229, 0.224, 0.225]),\n",
    "])\n",
    "input_tensor = preprocess(input_image)\n",
    "reformatted_image = input_tensor.squeeze(0).permute(1, 2, 0).numpy()\n",
    "plt.imshow(reformatted_image)\n",
    "\n",
    "input_batch = input_tensor.unsqueeze(0) # create a mini-batch as expected by the model\n",
    "\n",
    "print(input_batch.shape)"
   ]
  },
  {
   "cell_type": "code",
   "execution_count": null,
   "id": "06a5b80a",
   "metadata": {
    "panel-layout": {
     "height": 701,
     "visible": true,
     "width": 100
    },
    "slideshow": {
     "slide_type": "slide"
    }
   },
   "outputs": [],
   "source": [
    "# move the input and model to GPU for speed if available\n",
    "if torch.cuda.is_available():\n",
    "    print('GPU available!')\n",
    "    input_batch = input_batch.to('cuda')\n",
    "    model.to('cuda')\n",
    "\n",
    "with torch.no_grad():\n",
    "    output = model(input_batch)\n",
    "# Tensor of shape 1000, with confidence scores over Imagenet's 1000 classes\n",
    "print(output[0])\n",
    "# The output has unnormalized scores. To get probabilities, you can run a softmax on it.\n",
    "probabilities = torch.nn.functional.softmax(output[0], dim=0)\n",
    "print(probabilities)"
   ]
  },
  {
   "cell_type": "code",
   "execution_count": null,
   "id": "7450b9af",
   "metadata": {
    "scrolled": true,
    "slideshow": {
     "slide_type": "slide"
    }
   },
   "outputs": [],
   "source": [
    "# Download ImageNet labels\n",
    "!wget --no-check-certificate https://raw.githubusercontent.com/pytorch/hub/master/imagenet_classes.txt\n"
   ]
  },
  {
   "cell_type": "code",
   "execution_count": null,
   "id": "a29910bd",
   "metadata": {
    "slideshow": {
     "slide_type": "slide"
    }
   },
   "outputs": [],
   "source": [
    "# Read the categories\n",
    "with open(\"imagenet_classes.txt\", \"r\") as f:\n",
    "    categories = [s.strip() for s in f.readlines()]\n",
    "# Show top categories per image\n",
    "top5_prob, top5_catid = torch.topk(probabilities, 5)\n",
    "for i in range(top5_prob.size(0)):\n",
    "    print(categories[top5_catid[i]], top5_prob[i].item())"
   ]
  },
  {
   "cell_type": "markdown",
   "id": "140508ec",
   "metadata": {
    "panel-layout": {
     "height": 51.15000915527344,
     "visible": true,
     "width": 100
    },
    "slideshow": {
     "slide_type": "slide"
    }
   },
   "source": [
    "You will learn in later classes of this course what all this means. So don't worry if this looks like magic right now."
   ]
  }
 ],
 "metadata": {
  "celltoolbar": "Slideshow",
  "kernelspec": {
   "display_name": "Python 3 (ipykernel)",
   "language": "python",
   "name": "python3"
  },
  "language_info": {
   "codemirror_mode": {
    "name": "ipython",
    "version": 3
   },
   "file_extension": ".py",
   "mimetype": "text/x-python",
   "name": "python",
   "nbconvert_exporter": "python",
   "pygments_lexer": "ipython3",
   "version": "3.9.12"
  },
  "panel-cell-order": [
   "221343bb",
   "fbcd4f6e",
   "d536a2a5",
   "76020e62",
   "a9d3e709",
   "117cb356",
   "df15693f",
   "b213660e",
   "e2b108bd",
   "d978e7c6",
   "d6fe88c5",
   "b113380a",
   "be370fd7",
   "032111a7",
   "df9c66c6",
   "c89c7ff4",
   "4fd51f70",
   "182f7aaf",
   "0c06af40",
   "c8072f2f",
   "0a26e4d8",
   "9e5737e8",
   "fc58aad3",
   "c7ee78e5",
   "db78c7eb",
   "383d8565",
   "0c311ab6",
   "4d84c684",
   "6296223c",
   "d35ef526",
   "6f9ce2fa",
   "06a5b80a",
   "140508ec"
  ]
 },
 "nbformat": 4,
 "nbformat_minor": 5
}
